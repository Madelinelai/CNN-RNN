{
  "nbformat": 4,
  "nbformat_minor": 0,
  "metadata": {
    "colab": {
      "name": "mlp.ipynb",
      "private_outputs": true,
      "provenance": [],
      "authorship_tag": "ABX9TyNE4kVEhQwZ75IYI/o1wKfh",
      "include_colab_link": true
    },
    "kernelspec": {
      "name": "python3",
      "display_name": "Python 3"
    },
    "language_info": {
      "name": "python"
    },
    "accelerator": "GPU"
  },
  "cells": [
    {
      "cell_type": "markdown",
      "metadata": {
        "id": "view-in-github",
        "colab_type": "text"
      },
      "source": [
        "<a href=\"https://colab.research.google.com/github/Madelinelai/Deeplearning/blob/main/mlp.ipynb\" target=\"_parent\"><img src=\"https://colab.research.google.com/assets/colab-badge.svg\" alt=\"Open In Colab\"/></a>"
      ]
    },
    {
      "cell_type": "code",
      "metadata": {
        "id": "D6fc2Eipozz3"
      },
      "source": [
        "from tensorflow.keras.datasets.mnist import load_data\n",
        "load_data()\n",
        "#資料長相是tuple\n",
        "#((x_train,y_train),(x_test,y_test))"
      ],
      "execution_count": null,
      "outputs": []
    },
    {
      "cell_type": "code",
      "metadata": {
        "id": "4aoaQmvBpX8l"
      },
      "source": [
        "(x_train,y_train),(x_test,y_test) = load_data()"
      ],
      "execution_count": null,
      "outputs": []
    },
    {
      "cell_type": "code",
      "metadata": {
        "id": "R45h8Q4bppVC"
      },
      "source": [
        "print(x_train.shape)\n",
        "print(y_train.shape)\n",
        "print(x_test.shape)\n",
        "print(y_test.shape)"
      ],
      "execution_count": null,
      "outputs": []
    },
    {
      "cell_type": "code",
      "metadata": {
        "id": "sescFRrmqDMb"
      },
      "source": [
        "import matplotlib.pyplot as plt\n",
        "print (y_train[0])\n",
        "plt.imshow(x_train[0])"
      ],
      "execution_count": null,
      "outputs": []
    },
    {
      "cell_type": "code",
      "metadata": {
        "id": "pkvIDefdqDB_"
      },
      "source": [
        "#把資料放大長出來看，人為定義0為img中的紫色區塊。而255為img中的黃色區塊\n",
        "import pandas as pd\n",
        "pd.DataFrame(x_train[0])"
      ],
      "execution_count": null,
      "outputs": []
    },
    {
      "cell_type": "code",
      "metadata": {
        "id": "VGMDf5fnppLu"
      },
      "source": [
        "import matplotlib.pyplot as plt\n",
        "print(y_train[0])\n",
        "# cmap=\"YlGn_r\"\n",
        "plt.imshow(x_train[0], cmap=\"gray\")"
      ],
      "execution_count": null,
      "outputs": []
    },
    {
      "cell_type": "code",
      "metadata": {
        "id": "K0i_p0capo3s"
      },
      "source": [
        ""
      ],
      "execution_count": null,
      "outputs": []
    }
  ]
}