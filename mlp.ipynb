{
  "nbformat": 4,
  "nbformat_minor": 0,
  "metadata": {
    "colab": {
      "name": "mlp.ipynb",
      "private_outputs": true,
      "provenance": [],
      "collapsed_sections": [],
      "authorship_tag": "ABX9TyOtUaY/Dp2/NuWszYFwT8RG",
      "include_colab_link": true
    },
    "kernelspec": {
      "name": "python3",
      "display_name": "Python 3"
    },
    "language_info": {
      "name": "python"
    },
    "accelerator": "GPU"
  },
  "cells": [
    {
      "cell_type": "markdown",
      "metadata": {
        "id": "view-in-github",
        "colab_type": "text"
      },
      "source": [
        "<a href=\"https://colab.research.google.com/github/Madelinelai/Deeplearning/blob/main/mlp.ipynb\" target=\"_parent\"><img src=\"https://colab.research.google.com/assets/colab-badge.svg\" alt=\"Open In Colab\"/></a>"
      ]
    },
    {
      "cell_type": "code",
      "metadata": {
        "id": "D6fc2Eipozz3"
      },
      "source": [
        "from tensorflow.keras.datasets.mnist import load_data\n",
        "load_data()\n",
        "#資料長相是tuple\n",
        "#((x_train,y_train),(x_test,y_test))"
      ],
      "execution_count": null,
      "outputs": []
    },
    {
      "cell_type": "code",
      "metadata": {
        "id": "4aoaQmvBpX8l"
      },
      "source": [
        "(x_train,y_train),(x_test,y_test) = load_data()"
      ],
      "execution_count": null,
      "outputs": []
    },
    {
      "cell_type": "code",
      "metadata": {
        "id": "R45h8Q4bppVC"
      },
      "source": [
        "print(x_train.shape)\n",
        "print(y_train.shape)\n",
        "print(x_test.shape)\n",
        "print(y_test.shape)"
      ],
      "execution_count": null,
      "outputs": []
    },
    {
      "cell_type": "code",
      "metadata": {
        "id": "sescFRrmqDMb"
      },
      "source": [
        "import matplotlib.pyplot as plt\n",
        "print (y_train[0])\n",
        "plt.imshow(x_train[0])"
      ],
      "execution_count": null,
      "outputs": []
    },
    {
      "cell_type": "code",
      "metadata": {
        "id": "pkvIDefdqDB_"
      },
      "source": [
        "#把資料放大長出來看，人為定義0為img中的紫色區塊。而255為img中的黃色區塊\n",
        "import pandas as pd\n",
        "pd.DataFrame(x_train[0])"
      ],
      "execution_count": null,
      "outputs": []
    },
    {
      "cell_type": "code",
      "metadata": {
        "id": "VGMDf5fnppLu"
      },
      "source": [
        "import matplotlib.pyplot as plt\n",
        "print(y_train[0])\n",
        "# cmap=\"YlGn_r\"\n",
        "plt.imshow(x_train[0], cmap=\"gray\")"
      ],
      "execution_count": null,
      "outputs": []
    },
    {
      "cell_type": "code",
      "metadata": {
        "id": "K0i_p0capo3s"
      },
      "source": [
        "#此步驟先隨機選個數字128進行input，得出Param100480\n",
        "#當第一層128 第二層10，兩層相乘是1280+10門檻值th1--th10 =1290\n",
        "from tensorflow.keras.models import Sequential\n",
        "from tensorflow.keras.layers import Dense\n",
        "\n",
        "layers = [\n",
        "    Dense(128, activation=\"relu\", input_dim=784),\n",
        "    Dense(10, activation=\"softmax\")\n",
        "]\n",
        "model = Sequential(layers)\n",
        "model.summary()\n",
        "\n",
        "#下方輸出得出params可調整係數Total params有101770個(參數想像可以是a1,a2,b1,b2,c1,c2)"
      ],
      "execution_count": null,
      "outputs": []
    },
    {
      "cell_type": "code",
      "metadata": {
        "id": "HRCnggg5IDRn"
      },
      "source": [
        "#承上，當params有101700要調，那應該如何找到最合適的?\n",
        "from tensorflow.keras.models import Sequential\n",
        "from tensorflow.keras.layers import Dense\n",
        "\n",
        "layers = [\n",
        "    # 784 * 128(線條) + 128(bias) = 100480\n",
        "    Dense(128, activation=\"relu\", input_dim=784),\n",
        "    # 128 * 10(線條) + 10(bias) = 1290\n",
        "    Dense(10, activation=\"softmax\")\n",
        "]\n",
        "model = Sequential(layers)\n",
        "model.summary()"
      ],
      "execution_count": null,
      "outputs": []
    },
    {
      "cell_type": "markdown",
      "metadata": {
        "id": "kt41B4fR4JbA"
      },
      "source": [
        "上方[1]-[8]建立好模型之後，下方[9]開始要調整模型參數(MSE)"
      ]
    },
    {
      "cell_type": "code",
      "metadata": {
        "id": "WphjA0kZIFZW"
      },
      "source": [
        "# mse坡度在你預測很差的時候太小, cross entropy坡度好多了\n",
        "# 二元(sigmoid): Binary Cross Entropy  p log (1/q) + (1-p) log (1/1-q)\n",
        "# 多元(softmax): Categorical Cross Entropy  pi(1/qi)\n",
        "from tensorflow.keras.losses import CategoricalCrossentropy\n",
        "from tensorflow.keras.optimizers import Adam\n",
        "model.compile(loss=CategoricalCrossentropy(),\n",
        "              optimizer=Adam(),\n",
        "              metrics=[\"accuracy\"])"
      ],
      "execution_count": null,
      "outputs": []
    },
    {
      "cell_type": "code",
      "metadata": {
        "id": "6lgGsnn535-M"
      },
      "source": [
        "# 資料預處理\n",
        "# 答案: [0, 5, 2, 3....]\n",
        "from tensorflow.keras.utils import to_categorical\n",
        "y_train_cat = to_categorical(y_train)\n",
        "y_test_cat = to_categorical(y_test)\n",
        "print(y_train[0])\n",
        "print(y_train_cat[0])"
      ],
      "execution_count": null,
      "outputs": []
    },
    {
      "cell_type": "code",
      "metadata": {
        "id": "j5CcF8tx35wP"
      },
      "source": [
        "# 圖片: [[255, 0, 255, 128]]\n",
        "# 28 * 28 -> 784\n",
        "x_train_norm = x_train.reshape(60000, 784) / 255\n",
        "x_test_norm = x_test.reshape(10000, 784) / 255\n",
        "print(x_train_norm[0])"
      ],
      "execution_count": null,
      "outputs": []
    }
  ]
}